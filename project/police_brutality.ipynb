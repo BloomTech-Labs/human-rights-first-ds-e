{
  "nbformat": 4,
  "nbformat_minor": 0,
  "metadata": {
    "colab": {
      "name": "police brutality",
      "provenance": [],
      "collapsed_sections": []
    },
    "kernelspec": {
      "name": "python3",
      "display_name": "Python 3"
    }
  },
  "cells": [
    {
      "cell_type": "code",
      "metadata": {
        "id": "S5aonKo2MDxW",
        "outputId": "9582b0f6-7264-420f-f1e8-ea246a044ff7",
        "colab": {
          "base_uri": "https://localhost:8080/",
          "height": 181
        }
      },
      "source": [
        "import pandas as pd\n",
        "acab = pd.read_csv('all_sources_geoed.csv', sep = '|')"
      ],
      "execution_count": 1,
      "outputs": [
        {
          "output_type": "error",
          "ename": "ParserError",
          "evalue": "Error tokenizing data. C error: Expected 1 fields in line 90, saw 2\n",
          "traceback": [
            "\u001b[1;31m---------------------------------------------------------------------------\u001b[0m",
            "\u001b[1;31mParserError\u001b[0m                               Traceback (most recent call last)",
            "\u001b[1;32m<ipython-input-1-c4d41f551951>\u001b[0m in \u001b[0;36m<module>\u001b[1;34m\u001b[0m\n\u001b[0;32m      1\u001b[0m \u001b[1;32mimport\u001b[0m \u001b[0mpandas\u001b[0m \u001b[1;32mas\u001b[0m \u001b[0mpd\u001b[0m\u001b[1;33m\u001b[0m\u001b[1;33m\u001b[0m\u001b[0m\n\u001b[1;32m----> 2\u001b[1;33m \u001b[0macab\u001b[0m \u001b[1;33m=\u001b[0m \u001b[0mpd\u001b[0m\u001b[1;33m.\u001b[0m\u001b[0mread_csv\u001b[0m\u001b[1;33m(\u001b[0m\u001b[1;34m'all_sources_geoed.csv'\u001b[0m\u001b[1;33m,\u001b[0m \u001b[0msep\u001b[0m \u001b[1;33m=\u001b[0m \u001b[1;34m'|'\u001b[0m\u001b[1;33m)\u001b[0m\u001b[1;33m\u001b[0m\u001b[1;33m\u001b[0m\u001b[0m\n\u001b[0m",
            "\u001b[1;32m~\\anaconda3\\lib\\site-packages\\pandas\\io\\parsers.py\u001b[0m in \u001b[0;36mparser_f\u001b[1;34m(filepath_or_buffer, sep, delimiter, header, names, index_col, usecols, squeeze, prefix, mangle_dupe_cols, dtype, engine, converters, true_values, false_values, skipinitialspace, skiprows, skipfooter, nrows, na_values, keep_default_na, na_filter, verbose, skip_blank_lines, parse_dates, infer_datetime_format, keep_date_col, date_parser, dayfirst, cache_dates, iterator, chunksize, compression, thousands, decimal, lineterminator, quotechar, quoting, doublequote, escapechar, comment, encoding, dialect, error_bad_lines, warn_bad_lines, delim_whitespace, low_memory, memory_map, float_precision)\u001b[0m\n\u001b[0;32m    674\u001b[0m         )\n\u001b[0;32m    675\u001b[0m \u001b[1;33m\u001b[0m\u001b[0m\n\u001b[1;32m--> 676\u001b[1;33m         \u001b[1;32mreturn\u001b[0m \u001b[0m_read\u001b[0m\u001b[1;33m(\u001b[0m\u001b[0mfilepath_or_buffer\u001b[0m\u001b[1;33m,\u001b[0m \u001b[0mkwds\u001b[0m\u001b[1;33m)\u001b[0m\u001b[1;33m\u001b[0m\u001b[1;33m\u001b[0m\u001b[0m\n\u001b[0m\u001b[0;32m    677\u001b[0m \u001b[1;33m\u001b[0m\u001b[0m\n\u001b[0;32m    678\u001b[0m     \u001b[0mparser_f\u001b[0m\u001b[1;33m.\u001b[0m\u001b[0m__name__\u001b[0m \u001b[1;33m=\u001b[0m \u001b[0mname\u001b[0m\u001b[1;33m\u001b[0m\u001b[1;33m\u001b[0m\u001b[0m\n",
            "\u001b[1;32m~\\anaconda3\\lib\\site-packages\\pandas\\io\\parsers.py\u001b[0m in \u001b[0;36m_read\u001b[1;34m(filepath_or_buffer, kwds)\u001b[0m\n\u001b[0;32m    452\u001b[0m \u001b[1;33m\u001b[0m\u001b[0m\n\u001b[0;32m    453\u001b[0m     \u001b[1;32mtry\u001b[0m\u001b[1;33m:\u001b[0m\u001b[1;33m\u001b[0m\u001b[1;33m\u001b[0m\u001b[0m\n\u001b[1;32m--> 454\u001b[1;33m         \u001b[0mdata\u001b[0m \u001b[1;33m=\u001b[0m \u001b[0mparser\u001b[0m\u001b[1;33m.\u001b[0m\u001b[0mread\u001b[0m\u001b[1;33m(\u001b[0m\u001b[0mnrows\u001b[0m\u001b[1;33m)\u001b[0m\u001b[1;33m\u001b[0m\u001b[1;33m\u001b[0m\u001b[0m\n\u001b[0m\u001b[0;32m    455\u001b[0m     \u001b[1;32mfinally\u001b[0m\u001b[1;33m:\u001b[0m\u001b[1;33m\u001b[0m\u001b[1;33m\u001b[0m\u001b[0m\n\u001b[0;32m    456\u001b[0m         \u001b[0mparser\u001b[0m\u001b[1;33m.\u001b[0m\u001b[0mclose\u001b[0m\u001b[1;33m(\u001b[0m\u001b[1;33m)\u001b[0m\u001b[1;33m\u001b[0m\u001b[1;33m\u001b[0m\u001b[0m\n",
            "\u001b[1;32m~\\anaconda3\\lib\\site-packages\\pandas\\io\\parsers.py\u001b[0m in \u001b[0;36mread\u001b[1;34m(self, nrows)\u001b[0m\n\u001b[0;32m   1131\u001b[0m     \u001b[1;32mdef\u001b[0m \u001b[0mread\u001b[0m\u001b[1;33m(\u001b[0m\u001b[0mself\u001b[0m\u001b[1;33m,\u001b[0m \u001b[0mnrows\u001b[0m\u001b[1;33m=\u001b[0m\u001b[1;32mNone\u001b[0m\u001b[1;33m)\u001b[0m\u001b[1;33m:\u001b[0m\u001b[1;33m\u001b[0m\u001b[1;33m\u001b[0m\u001b[0m\n\u001b[0;32m   1132\u001b[0m         \u001b[0mnrows\u001b[0m \u001b[1;33m=\u001b[0m \u001b[0m_validate_integer\u001b[0m\u001b[1;33m(\u001b[0m\u001b[1;34m\"nrows\"\u001b[0m\u001b[1;33m,\u001b[0m \u001b[0mnrows\u001b[0m\u001b[1;33m)\u001b[0m\u001b[1;33m\u001b[0m\u001b[1;33m\u001b[0m\u001b[0m\n\u001b[1;32m-> 1133\u001b[1;33m         \u001b[0mret\u001b[0m \u001b[1;33m=\u001b[0m \u001b[0mself\u001b[0m\u001b[1;33m.\u001b[0m\u001b[0m_engine\u001b[0m\u001b[1;33m.\u001b[0m\u001b[0mread\u001b[0m\u001b[1;33m(\u001b[0m\u001b[0mnrows\u001b[0m\u001b[1;33m)\u001b[0m\u001b[1;33m\u001b[0m\u001b[1;33m\u001b[0m\u001b[0m\n\u001b[0m\u001b[0;32m   1134\u001b[0m \u001b[1;33m\u001b[0m\u001b[0m\n\u001b[0;32m   1135\u001b[0m         \u001b[1;31m# May alter columns / col_dict\u001b[0m\u001b[1;33m\u001b[0m\u001b[1;33m\u001b[0m\u001b[1;33m\u001b[0m\u001b[0m\n",
            "\u001b[1;32m~\\anaconda3\\lib\\site-packages\\pandas\\io\\parsers.py\u001b[0m in \u001b[0;36mread\u001b[1;34m(self, nrows)\u001b[0m\n\u001b[0;32m   2035\u001b[0m     \u001b[1;32mdef\u001b[0m \u001b[0mread\u001b[0m\u001b[1;33m(\u001b[0m\u001b[0mself\u001b[0m\u001b[1;33m,\u001b[0m \u001b[0mnrows\u001b[0m\u001b[1;33m=\u001b[0m\u001b[1;32mNone\u001b[0m\u001b[1;33m)\u001b[0m\u001b[1;33m:\u001b[0m\u001b[1;33m\u001b[0m\u001b[1;33m\u001b[0m\u001b[0m\n\u001b[0;32m   2036\u001b[0m         \u001b[1;32mtry\u001b[0m\u001b[1;33m:\u001b[0m\u001b[1;33m\u001b[0m\u001b[1;33m\u001b[0m\u001b[0m\n\u001b[1;32m-> 2037\u001b[1;33m             \u001b[0mdata\u001b[0m \u001b[1;33m=\u001b[0m \u001b[0mself\u001b[0m\u001b[1;33m.\u001b[0m\u001b[0m_reader\u001b[0m\u001b[1;33m.\u001b[0m\u001b[0mread\u001b[0m\u001b[1;33m(\u001b[0m\u001b[0mnrows\u001b[0m\u001b[1;33m)\u001b[0m\u001b[1;33m\u001b[0m\u001b[1;33m\u001b[0m\u001b[0m\n\u001b[0m\u001b[0;32m   2038\u001b[0m         \u001b[1;32mexcept\u001b[0m \u001b[0mStopIteration\u001b[0m\u001b[1;33m:\u001b[0m\u001b[1;33m\u001b[0m\u001b[1;33m\u001b[0m\u001b[0m\n\u001b[0;32m   2039\u001b[0m             \u001b[1;32mif\u001b[0m \u001b[0mself\u001b[0m\u001b[1;33m.\u001b[0m\u001b[0m_first_chunk\u001b[0m\u001b[1;33m:\u001b[0m\u001b[1;33m\u001b[0m\u001b[1;33m\u001b[0m\u001b[0m\n",
            "\u001b[1;32mpandas\\_libs\\parsers.pyx\u001b[0m in \u001b[0;36mpandas._libs.parsers.TextReader.read\u001b[1;34m()\u001b[0m\n",
            "\u001b[1;32mpandas\\_libs\\parsers.pyx\u001b[0m in \u001b[0;36mpandas._libs.parsers.TextReader._read_low_memory\u001b[1;34m()\u001b[0m\n",
            "\u001b[1;32mpandas\\_libs\\parsers.pyx\u001b[0m in \u001b[0;36mpandas._libs.parsers.TextReader._read_rows\u001b[1;34m()\u001b[0m\n",
            "\u001b[1;32mpandas\\_libs\\parsers.pyx\u001b[0m in \u001b[0;36mpandas._libs.parsers.TextReader._tokenize_rows\u001b[1;34m()\u001b[0m\n",
            "\u001b[1;32mpandas\\_libs\\parsers.pyx\u001b[0m in \u001b[0;36mpandas._libs.parsers.raise_parser_error\u001b[1;34m()\u001b[0m\n",
            "\u001b[1;31mParserError\u001b[0m: Error tokenizing data. C error: Expected 1 fields in line 90, saw 2\n"
          ]
        }
      ]
    },
    {
      "cell_type": "code",
      "metadata": {
        "id": "dV90sn-vPvBc"
      },
      "source": [
        "pigs = acab\n",
        "\n",
        "#i like to make a copy of the dataframe to work on in case i screw up\n",
        "#so i don't have to import the csv and so on all over again"
      ],
      "execution_count": 66,
      "outputs": []
    },
    {
      "cell_type": "code",
      "metadata": {
        "id": "WfRjZrzxPy2y",
        "outputId": "45fc2212-9f76-4fd3-f47f-aacc8dc2f00c",
        "colab": {
          "base_uri": "https://localhost:8080/"
        }
      },
      "source": [
        "pigs.head()"
      ],
      "execution_count": 67,
      "outputs": [
        {
          "output_type": "execute_result",
          "data": {
            "text/plain": [
              "   ind  \\\n",
              "0    0   \n",
              "1    1   \n",
              "2    2   \n",
              "3    3   \n",
              "4    4   \n",
              "\n",
              "                                                                                                                  src  \\\n",
              "0                                                                     ['https://www.youtube.com/watch?v=s7MM1VauRHo']   \n",
              "1                                                 ['https://mobile.twitter.com/chadloder/status/1267011092045115392']   \n",
              "2                                                   ['https://twitter.com/gunduzbaba1905/status/1266937500607614982']   \n",
              "3    ['https://www.reddit.com/r/Bad_Cop_No_Donut/comments/gtt3w8/i_caught_the_moment_seattle_police_pepper_sprayed/']   \n",
              "4  ['https://www.fox10phoenix.com/news/video-shows-milk-poured-over-face-of-child-pepper-sprayed-in-seattle-protest']   \n",
              "\n",
              "        state     city  \\\n",
              "0  Washington  Olympia   \n",
              "1  Washington  Seattle   \n",
              "2  Washington  Seattle   \n",
              "3  Washington  Seattle   \n",
              "4  Washington  Seattle   \n",
              "\n",
              "                                                                                                                                                                                                                                                                                                                                                                                                                                                                                                                                                                                                                             description  \\\n",
              "0  Footage shows a few individuals break off from a protest to smash City Hall windows. Protesters shout at vandals to stop.  Police then arrive. They arrest multiple individuals near the City Hall windows including one individual who appeared to approach the vandals in an effort to defuse the situation.  Police fire tear gas and riot rounds at protesters during the arrests. Protesters become agitated.  After police walk arrestee away protesters continue to shout at police. Police respond with a second bout of tear gas and riot rounds.  A racial slur can be heard shouted although it is unsure who is shouting.   \n",
              "1                                                                                                                                                                                                                                                                                                                                                                                           Officer pins protester with his knee on his neck. His partner intervenes and moves his knee onto the individual's back.  Possibly related to OPD Case 2020OPA-0324 - \"Placing the knee on the neck area of two people who had been arrested\"   \n",
              "2                                                                                                                                                                                                                                                                                                                                                                                                                                       A couple of police officers are seen beating and manhandling an unarmed man. The officers are throwing punches while he was on the ground and pinned.  Related to Seattle OPA Case 2020OPA-0330.   \n",
              "3                                                                                                                                                                                                                                                                                                                                                                                                                                                                                                              A police officer randomly and indiscriminately pepper sprays civilians walking around which then went on to spark a riot.   \n",
              "4                                                                                                                                                                                                                                                                                                                                                                                                                                                                                    Police pepper sprays a young child who is seen crying while protesters pour milk on the distressed girl.  Related to Seattle OPA Case 2020OPA-0322.   \n",
              "\n",
              "                                                                          tags  \\\n",
              "0    ['arrest', 'less-lethal', 'projectile', 'protester', 'shoot', 'tear-gas']   \n",
              "1                                      ['arrest', 'knee-on-neck', 'protester']   \n",
              "2                                               ['beat', 'protester', 'punch']   \n",
              "3                                 ['less-lethal', 'pepper-spray', 'protester']   \n",
              "4  ['child', 'inhumane-treatment', 'less-lethal', 'pepper-spray', 'protester']   \n",
              "\n",
              "                                     geolocation  \\\n",
              "0  {'lat': '47.0378741', 'long': '-122.9006951'}   \n",
              "1  {'lat': '47.6062095', 'long': '-122.3320708'}   \n",
              "2  {'lat': '47.6062095', 'long': '-122.3320708'}   \n",
              "3  {'lat': '47.6062095', 'long': '-122.3320708'}   \n",
              "4  {'lat': '47.6062095', 'long': '-122.3320708'}   \n",
              "\n",
              "                                                      title        date  \\\n",
              "0     Police respond to broken windows with excessive force  2020-05-31   \n",
              "1  Officer pins protester by pushing his knee into his neck  2020-05-30   \n",
              "2                     Police beat unarmed man on the ground  2020-05-31   \n",
              "3  Police indiscriminately pepper spray peaceful protesters  2020-05-31   \n",
              "4                           Police pepper spray young child  2020-05-31   \n",
              "\n",
              "  date_text            id        lat        long  \n",
              "0  May 31st  wa-olympia-1  47.037874 -122.900695  \n",
              "1  May 30th  wa-seattle-1  47.606209 -122.332071  \n",
              "2  May 31st  wa-seattle-2  47.606209 -122.332071  \n",
              "3  May 31st  wa-seattle-3  47.606209 -122.332071  \n",
              "4  May 31st  wa-seattle-4  47.606209 -122.332071  "
            ],
            "text/html": "<div>\n<style scoped>\n    .dataframe tbody tr th:only-of-type {\n        vertical-align: middle;\n    }\n\n    .dataframe tbody tr th {\n        vertical-align: top;\n    }\n\n    .dataframe thead th {\n        text-align: right;\n    }\n</style>\n<table border=\"1\" class=\"dataframe\">\n  <thead>\n    <tr style=\"text-align: right;\">\n      <th></th>\n      <th>ind</th>\n      <th>src</th>\n      <th>state</th>\n      <th>city</th>\n      <th>description</th>\n      <th>tags</th>\n      <th>geolocation</th>\n      <th>title</th>\n      <th>date</th>\n      <th>date_text</th>\n      <th>id</th>\n      <th>lat</th>\n      <th>long</th>\n    </tr>\n  </thead>\n  <tbody>\n    <tr>\n      <th>0</th>\n      <td>0</td>\n      <td>['https://www.youtube.com/watch?v=s7MM1VauRHo']</td>\n      <td>Washington</td>\n      <td>Olympia</td>\n      <td>Footage shows a few individuals break off from a protest to smash City Hall windows. Protesters shout at vandals to stop.  Police then arrive. They arrest multiple individuals near the City Hall windows including one individual who appeared to approach the vandals in an effort to defuse the situation.  Police fire tear gas and riot rounds at protesters during the arrests. Protesters become agitated.  After police walk arrestee away protesters continue to shout at police. Police respond with a second bout of tear gas and riot rounds.  A racial slur can be heard shouted although it is unsure who is shouting.</td>\n      <td>['arrest', 'less-lethal', 'projectile', 'protester', 'shoot', 'tear-gas']</td>\n      <td>{'lat': '47.0378741', 'long': '-122.9006951'}</td>\n      <td>Police respond to broken windows with excessive force</td>\n      <td>2020-05-31</td>\n      <td>May 31st</td>\n      <td>wa-olympia-1</td>\n      <td>47.037874</td>\n      <td>-122.900695</td>\n    </tr>\n    <tr>\n      <th>1</th>\n      <td>1</td>\n      <td>['https://mobile.twitter.com/chadloder/status/1267011092045115392']</td>\n      <td>Washington</td>\n      <td>Seattle</td>\n      <td>Officer pins protester with his knee on his neck. His partner intervenes and moves his knee onto the individual's back.  Possibly related to OPD Case 2020OPA-0324 - \"Placing the knee on the neck area of two people who had been arrested\"</td>\n      <td>['arrest', 'knee-on-neck', 'protester']</td>\n      <td>{'lat': '47.6062095', 'long': '-122.3320708'}</td>\n      <td>Officer pins protester by pushing his knee into his neck</td>\n      <td>2020-05-30</td>\n      <td>May 30th</td>\n      <td>wa-seattle-1</td>\n      <td>47.606209</td>\n      <td>-122.332071</td>\n    </tr>\n    <tr>\n      <th>2</th>\n      <td>2</td>\n      <td>['https://twitter.com/gunduzbaba1905/status/1266937500607614982']</td>\n      <td>Washington</td>\n      <td>Seattle</td>\n      <td>A couple of police officers are seen beating and manhandling an unarmed man. The officers are throwing punches while he was on the ground and pinned.  Related to Seattle OPA Case 2020OPA-0330.</td>\n      <td>['beat', 'protester', 'punch']</td>\n      <td>{'lat': '47.6062095', 'long': '-122.3320708'}</td>\n      <td>Police beat unarmed man on the ground</td>\n      <td>2020-05-31</td>\n      <td>May 31st</td>\n      <td>wa-seattle-2</td>\n      <td>47.606209</td>\n      <td>-122.332071</td>\n    </tr>\n    <tr>\n      <th>3</th>\n      <td>3</td>\n      <td>['https://www.reddit.com/r/Bad_Cop_No_Donut/comments/gtt3w8/i_caught_the_moment_seattle_police_pepper_sprayed/']</td>\n      <td>Washington</td>\n      <td>Seattle</td>\n      <td>A police officer randomly and indiscriminately pepper sprays civilians walking around which then went on to spark a riot.</td>\n      <td>['less-lethal', 'pepper-spray', 'protester']</td>\n      <td>{'lat': '47.6062095', 'long': '-122.3320708'}</td>\n      <td>Police indiscriminately pepper spray peaceful protesters</td>\n      <td>2020-05-31</td>\n      <td>May 31st</td>\n      <td>wa-seattle-3</td>\n      <td>47.606209</td>\n      <td>-122.332071</td>\n    </tr>\n    <tr>\n      <th>4</th>\n      <td>4</td>\n      <td>['https://www.fox10phoenix.com/news/video-shows-milk-poured-over-face-of-child-pepper-sprayed-in-seattle-protest']</td>\n      <td>Washington</td>\n      <td>Seattle</td>\n      <td>Police pepper sprays a young child who is seen crying while protesters pour milk on the distressed girl.  Related to Seattle OPA Case 2020OPA-0322.</td>\n      <td>['child', 'inhumane-treatment', 'less-lethal', 'pepper-spray', 'protester']</td>\n      <td>{'lat': '47.6062095', 'long': '-122.3320708'}</td>\n      <td>Police pepper spray young child</td>\n      <td>2020-05-31</td>\n      <td>May 31st</td>\n      <td>wa-seattle-4</td>\n      <td>47.606209</td>\n      <td>-122.332071</td>\n    </tr>\n  </tbody>\n</table>\n</div>"
          },
          "metadata": {},
          "execution_count": 67
        }
      ]
    },
    {
      "cell_type": "code",
      "metadata": {
        "id": "Gwck_nLlP_pr"
      },
      "source": [
        "tags = pigs['tags']\n",
        "\n",
        "tags = tags.str.replace(']', '')\n",
        "tags = tags.str.replace(\"'\", '')\n",
        "tags = tags.str.replace(',', '')\n",
        "tags = tags.str.replace('[', '')\n",
        "\n",
        "pigs['tags'] = tags\n",
        "\n",
        "#just cleaning up the tags column to make it easier to do the stuff below "
      ],
      "execution_count": 68,
      "outputs": []
    },
    {
      "cell_type": "code",
      "metadata": {
        "id": "vgdrcK11Rcuh"
      },
      "source": [
        "pd.set_option('display.max_rows', 69)\n",
        "\n",
        "#for reference, this is how you set the number of rows you can see in pandas\n",
        "#so you're not limited to 5 at the top and 5 at the bottom"
      ],
      "execution_count": 69,
      "outputs": []
    },
    {
      "cell_type": "code",
      "metadata": {
        "id": "IE64p85tQftG",
        "outputId": "c31f363a-afa1-4356-c528-b47c4f5bb2fd",
        "colab": {
          "base_uri": "https://localhost:8080/"
        }
      },
      "source": [
        "tags.str.split(expand=True).stack().value_counts()\n",
        "#number of times each tag appears in the data"
      ],
      "execution_count": 70,
      "outputs": [
        {
          "output_type": "execute_result",
          "data": {
            "text/plain": [
              "protester                 926\n",
              "less-lethal               652\n",
              "arrest                    344\n",
              "shove                     318\n",
              "shoot                     288\n",
              "tear-gas                  263\n",
              "pepper-spray              211\n",
              "journalist                206\n",
              "spray                     201\n",
              "projectile                180\n",
              "push                      177\n",
              "strike                    140\n",
              "baton                     137\n",
              "tackle                    103\n",
              "beat                       94\n",
              "property-destruction       89\n",
              "rubber-bullet              87\n",
              "abuse-of-power             87\n",
              "stun-grenade               82\n",
              "bystander                  65\n",
              "knee                       62\n",
              "pepper-ball                61\n",
              "tear-gas-canister          53\n",
              "threaten                   47\n",
              "grab                       46\n",
              "punch                      45\n",
              "throw                      43\n",
              "vehicle                    34\n",
              "inhumane-treatment         31\n",
              "bike                       31\n",
              "zip-tie                    27\n",
              "medic                      26\n",
              "shield                     23\n",
              "hide-badge                 22\n",
              "knee-on-neck               20\n",
              "kick                       18\n",
              "explosive                  16\n",
              "mace                       15\n",
              "legal-observer             14\n",
              "drive                      13\n",
              "child                      12\n",
              "person-with-disability     12\n",
              "homeless                   11\n",
              "bean-bag                   10\n",
              "lrad                       10\n",
              "politician                  9\n",
              "gas                         9\n",
              "choke                       9\n",
              "taser                       7\n",
              "foam-bullet                 7\n",
              "tase                        6\n",
              "body-cam                    6\n",
              "gun                         5\n",
              "horse                       5\n",
              "racial-profiling            5\n",
              "lgbtq+                      4\n",
              "pregnant                    4\n",
              "sexual-assault              3\n",
              "incitement                  3\n",
              "wooden-bullet               2\n",
              "marking-round               2\n",
              "live-round                  2\n",
              "death                       2\n",
              "non-protest                 2\n",
              "elderly                     1\n",
              "dog                         1\n",
              "headlock                    1\n",
              "conceal                     1\n",
              "celebrity                   1\n",
              "dtype: int64"
            ]
          },
          "metadata": {},
          "execution_count": 70
        }
      ]
    },
    {
      "cell_type": "code",
      "metadata": {
        "id": "STon6AIMRBJn",
        "outputId": "71f2fff0-e802-4144-ea2f-3668b3f5b762",
        "colab": {
          "base_uri": "https://localhost:8080/"
        }
      },
      "source": [
        "bacon = (tags.str.split(expand=True)\n",
        "              .stack()\n",
        "              .value_counts()\n",
        "              .rename_axis('keyword')\n",
        "              .reset_index(name='count'))\n",
        "\n",
        "bacon\n",
        "\n",
        "\n",
        "\n",
        "#little dataframe doing the same thing as above"
      ],
      "execution_count": 71,
      "outputs": [
        {
          "output_type": "execute_result",
          "data": {
            "text/plain": [
              "                   keyword  count\n",
              "0                protester    926\n",
              "1              less-lethal    652\n",
              "2                   arrest    344\n",
              "3                    shove    318\n",
              "4                    shoot    288\n",
              "5                 tear-gas    263\n",
              "6             pepper-spray    211\n",
              "7               journalist    206\n",
              "8                    spray    201\n",
              "9               projectile    180\n",
              "10                    push    177\n",
              "11                  strike    140\n",
              "12                   baton    137\n",
              "13                  tackle    103\n",
              "14                    beat     94\n",
              "15    property-destruction     89\n",
              "16           rubber-bullet     87\n",
              "17          abuse-of-power     87\n",
              "18            stun-grenade     82\n",
              "19               bystander     65\n",
              "20                    knee     62\n",
              "21             pepper-ball     61\n",
              "22       tear-gas-canister     53\n",
              "23                threaten     47\n",
              "24                    grab     46\n",
              "25                   punch     45\n",
              "26                   throw     43\n",
              "27                 vehicle     34\n",
              "28      inhumane-treatment     31\n",
              "29                    bike     31\n",
              "30                 zip-tie     27\n",
              "31                   medic     26\n",
              "32                  shield     23\n",
              "33              hide-badge     22\n",
              "34            knee-on-neck     20\n",
              "35                    kick     18\n",
              "36               explosive     16\n",
              "37                    mace     15\n",
              "38          legal-observer     14\n",
              "39                   drive     13\n",
              "40                   child     12\n",
              "41  person-with-disability     12\n",
              "42                homeless     11\n",
              "43                bean-bag     10\n",
              "44                    lrad     10\n",
              "45              politician      9\n",
              "46                     gas      9\n",
              "47                   choke      9\n",
              "48                   taser      7\n",
              "49             foam-bullet      7\n",
              "50                    tase      6\n",
              "51                body-cam      6\n",
              "52                     gun      5\n",
              "53                   horse      5\n",
              "54        racial-profiling      5\n",
              "55                  lgbtq+      4\n",
              "56                pregnant      4\n",
              "57          sexual-assault      3\n",
              "58              incitement      3\n",
              "59           wooden-bullet      2\n",
              "60           marking-round      2\n",
              "61              live-round      2\n",
              "62                   death      2\n",
              "63             non-protest      2\n",
              "64                 elderly      1\n",
              "65                     dog      1\n",
              "66                headlock      1\n",
              "67                 conceal      1\n",
              "68               celebrity      1"
            ],
            "text/html": "<div>\n<style scoped>\n    .dataframe tbody tr th:only-of-type {\n        vertical-align: middle;\n    }\n\n    .dataframe tbody tr th {\n        vertical-align: top;\n    }\n\n    .dataframe thead th {\n        text-align: right;\n    }\n</style>\n<table border=\"1\" class=\"dataframe\">\n  <thead>\n    <tr style=\"text-align: right;\">\n      <th></th>\n      <th>keyword</th>\n      <th>count</th>\n    </tr>\n  </thead>\n  <tbody>\n    <tr>\n      <th>0</th>\n      <td>protester</td>\n      <td>926</td>\n    </tr>\n    <tr>\n      <th>1</th>\n      <td>less-lethal</td>\n      <td>652</td>\n    </tr>\n    <tr>\n      <th>2</th>\n      <td>arrest</td>\n      <td>344</td>\n    </tr>\n    <tr>\n      <th>3</th>\n      <td>shove</td>\n      <td>318</td>\n    </tr>\n    <tr>\n      <th>4</th>\n      <td>shoot</td>\n      <td>288</td>\n    </tr>\n    <tr>\n      <th>5</th>\n      <td>tear-gas</td>\n      <td>263</td>\n    </tr>\n    <tr>\n      <th>6</th>\n      <td>pepper-spray</td>\n      <td>211</td>\n    </tr>\n    <tr>\n      <th>7</th>\n      <td>journalist</td>\n      <td>206</td>\n    </tr>\n    <tr>\n      <th>8</th>\n      <td>spray</td>\n      <td>201</td>\n    </tr>\n    <tr>\n      <th>9</th>\n      <td>projectile</td>\n      <td>180</td>\n    </tr>\n    <tr>\n      <th>10</th>\n      <td>push</td>\n      <td>177</td>\n    </tr>\n    <tr>\n      <th>11</th>\n      <td>strike</td>\n      <td>140</td>\n    </tr>\n    <tr>\n      <th>12</th>\n      <td>baton</td>\n      <td>137</td>\n    </tr>\n    <tr>\n      <th>13</th>\n      <td>tackle</td>\n      <td>103</td>\n    </tr>\n    <tr>\n      <th>14</th>\n      <td>beat</td>\n      <td>94</td>\n    </tr>\n    <tr>\n      <th>15</th>\n      <td>property-destruction</td>\n      <td>89</td>\n    </tr>\n    <tr>\n      <th>16</th>\n      <td>rubber-bullet</td>\n      <td>87</td>\n    </tr>\n    <tr>\n      <th>17</th>\n      <td>abuse-of-power</td>\n      <td>87</td>\n    </tr>\n    <tr>\n      <th>18</th>\n      <td>stun-grenade</td>\n      <td>82</td>\n    </tr>\n    <tr>\n      <th>19</th>\n      <td>bystander</td>\n      <td>65</td>\n    </tr>\n    <tr>\n      <th>20</th>\n      <td>knee</td>\n      <td>62</td>\n    </tr>\n    <tr>\n      <th>21</th>\n      <td>pepper-ball</td>\n      <td>61</td>\n    </tr>\n    <tr>\n      <th>22</th>\n      <td>tear-gas-canister</td>\n      <td>53</td>\n    </tr>\n    <tr>\n      <th>23</th>\n      <td>threaten</td>\n      <td>47</td>\n    </tr>\n    <tr>\n      <th>24</th>\n      <td>grab</td>\n      <td>46</td>\n    </tr>\n    <tr>\n      <th>25</th>\n      <td>punch</td>\n      <td>45</td>\n    </tr>\n    <tr>\n      <th>26</th>\n      <td>throw</td>\n      <td>43</td>\n    </tr>\n    <tr>\n      <th>27</th>\n      <td>vehicle</td>\n      <td>34</td>\n    </tr>\n    <tr>\n      <th>28</th>\n      <td>inhumane-treatment</td>\n      <td>31</td>\n    </tr>\n    <tr>\n      <th>29</th>\n      <td>bike</td>\n      <td>31</td>\n    </tr>\n    <tr>\n      <th>30</th>\n      <td>zip-tie</td>\n      <td>27</td>\n    </tr>\n    <tr>\n      <th>31</th>\n      <td>medic</td>\n      <td>26</td>\n    </tr>\n    <tr>\n      <th>32</th>\n      <td>shield</td>\n      <td>23</td>\n    </tr>\n    <tr>\n      <th>33</th>\n      <td>hide-badge</td>\n      <td>22</td>\n    </tr>\n    <tr>\n      <th>34</th>\n      <td>knee-on-neck</td>\n      <td>20</td>\n    </tr>\n    <tr>\n      <th>35</th>\n      <td>kick</td>\n      <td>18</td>\n    </tr>\n    <tr>\n      <th>36</th>\n      <td>explosive</td>\n      <td>16</td>\n    </tr>\n    <tr>\n      <th>37</th>\n      <td>mace</td>\n      <td>15</td>\n    </tr>\n    <tr>\n      <th>38</th>\n      <td>legal-observer</td>\n      <td>14</td>\n    </tr>\n    <tr>\n      <th>39</th>\n      <td>drive</td>\n      <td>13</td>\n    </tr>\n    <tr>\n      <th>40</th>\n      <td>child</td>\n      <td>12</td>\n    </tr>\n    <tr>\n      <th>41</th>\n      <td>person-with-disability</td>\n      <td>12</td>\n    </tr>\n    <tr>\n      <th>42</th>\n      <td>homeless</td>\n      <td>11</td>\n    </tr>\n    <tr>\n      <th>43</th>\n      <td>bean-bag</td>\n      <td>10</td>\n    </tr>\n    <tr>\n      <th>44</th>\n      <td>lrad</td>\n      <td>10</td>\n    </tr>\n    <tr>\n      <th>45</th>\n      <td>politician</td>\n      <td>9</td>\n    </tr>\n    <tr>\n      <th>46</th>\n      <td>gas</td>\n      <td>9</td>\n    </tr>\n    <tr>\n      <th>47</th>\n      <td>choke</td>\n      <td>9</td>\n    </tr>\n    <tr>\n      <th>48</th>\n      <td>taser</td>\n      <td>7</td>\n    </tr>\n    <tr>\n      <th>49</th>\n      <td>foam-bullet</td>\n      <td>7</td>\n    </tr>\n    <tr>\n      <th>50</th>\n      <td>tase</td>\n      <td>6</td>\n    </tr>\n    <tr>\n      <th>51</th>\n      <td>body-cam</td>\n      <td>6</td>\n    </tr>\n    <tr>\n      <th>52</th>\n      <td>gun</td>\n      <td>5</td>\n    </tr>\n    <tr>\n      <th>53</th>\n      <td>horse</td>\n      <td>5</td>\n    </tr>\n    <tr>\n      <th>54</th>\n      <td>racial-profiling</td>\n      <td>5</td>\n    </tr>\n    <tr>\n      <th>55</th>\n      <td>lgbtq+</td>\n      <td>4</td>\n    </tr>\n    <tr>\n      <th>56</th>\n      <td>pregnant</td>\n      <td>4</td>\n    </tr>\n    <tr>\n      <th>57</th>\n      <td>sexual-assault</td>\n      <td>3</td>\n    </tr>\n    <tr>\n      <th>58</th>\n      <td>incitement</td>\n      <td>3</td>\n    </tr>\n    <tr>\n      <th>59</th>\n      <td>wooden-bullet</td>\n      <td>2</td>\n    </tr>\n    <tr>\n      <th>60</th>\n      <td>marking-round</td>\n      <td>2</td>\n    </tr>\n    <tr>\n      <th>61</th>\n      <td>live-round</td>\n      <td>2</td>\n    </tr>\n    <tr>\n      <th>62</th>\n      <td>death</td>\n      <td>2</td>\n    </tr>\n    <tr>\n      <th>63</th>\n      <td>non-protest</td>\n      <td>2</td>\n    </tr>\n    <tr>\n      <th>64</th>\n      <td>elderly</td>\n      <td>1</td>\n    </tr>\n    <tr>\n      <th>65</th>\n      <td>dog</td>\n      <td>1</td>\n    </tr>\n    <tr>\n      <th>66</th>\n      <td>headlock</td>\n      <td>1</td>\n    </tr>\n    <tr>\n      <th>67</th>\n      <td>conceal</td>\n      <td>1</td>\n    </tr>\n    <tr>\n      <th>68</th>\n      <td>celebrity</td>\n      <td>1</td>\n    </tr>\n  </tbody>\n</table>\n</div>"
          },
          "metadata": {},
          "execution_count": 71
        }
      ]
    },
    {
      "cell_type": "markdown",
      "metadata": {
        "id": "wa-Rezhs-mzn"
      },
      "source": [
        "To do:\n",
        "\n",
        "• make new dfs for chemicals and bludgeoning\n",
        "\n",
        "• those dfs should have two columns, one for date (by weeks) and one for # of observations in those weeks\n",
        "\n",
        "• then we can make line graphs or whatever pretty easily. just can't remember datetime code to group data by weeks\n",
        "\n",
        "• it would be good to make heatmaps of what forms of force are most popular with police by city \n",
        "\n",
        "• tear gas probably deserves its own analysis separate from chemicals generally\n",
        "\n",
        "• one pretty serious issue is that because of the way these data are collected, we're not really seeing how often the force was *used*, but rather how often it was *observed* and uploaded to social media. we need to figure out a way to normalize the data somehow because as it's set up it will not be an accurate representation of what we're measuring. i know we've talked about our neural net recognizing whether the first few frames of a video are identical, but a. that doesn't apply to our mvp nlp project and b. even if it did, it wouldn't be able to tell whether it was the same incident viewed from different angles.\n",
        "\n",
        "• i think the best way to approach normalization is probably to heavily factor in the date and city. the number of observations should matter in some capacity but they are *not* the number of instances, so we need to think about what that means. i'm honestly not sure how to go about it. for now, i want to focus on getting some working visualizations."
      ]
    },
    {
      "cell_type": "code",
      "execution_count": 93,
      "metadata": {},
      "outputs": [
        {
          "output_type": "error",
          "ename": "AttributeError",
          "evalue": "'Series' object has no attribute 'contains'",
          "traceback": [
            "\u001b[0;31m---------------------------------------------------------------------------\u001b[0m",
            "\u001b[0;31mAttributeError\u001b[0m                            Traceback (most recent call last)",
            "\u001b[0;32m<ipython-input-93-57dbafbd7e93>\u001b[0m in \u001b[0;36m<module>\u001b[0;34m\u001b[0m\n\u001b[1;32m      3\u001b[0m \u001b[0;34m\u001b[0m\u001b[0m\n\u001b[1;32m      4\u001b[0m \u001b[0;32mfor\u001b[0m \u001b[0mi\u001b[0m \u001b[0;32min\u001b[0m \u001b[0mpigs\u001b[0m\u001b[0;34m[\u001b[0m\u001b[0;34m'tags'\u001b[0m\u001b[0;34m]\u001b[0m\u001b[0;34m:\u001b[0m\u001b[0;34m\u001b[0m\u001b[0;34m\u001b[0m\u001b[0m\n\u001b[0;32m----> 5\u001b[0;31m     \u001b[0;32mif\u001b[0m \u001b[0mpigs\u001b[0m\u001b[0;34m.\u001b[0m\u001b[0mtags\u001b[0m\u001b[0;34m.\u001b[0m\u001b[0mcontains\u001b[0m\u001b[0;34m(\u001b[0m\u001b[0mchemical\u001b[0m\u001b[0;34m)\u001b[0m\u001b[0;34m:\u001b[0m\u001b[0;34m\u001b[0m\u001b[0;34m\u001b[0m\u001b[0m\n\u001b[0m\u001b[1;32m      6\u001b[0m         \u001b[0mpigs\u001b[0m\u001b[0;34m[\u001b[0m\u001b[0;34m'force_cat'\u001b[0m\u001b[0;34m]\u001b[0m \u001b[0;34m=\u001b[0m \u001b[0;34m'Chemical'\u001b[0m\u001b[0;34m\u001b[0m\u001b[0;34m\u001b[0m\u001b[0m\n\u001b[1;32m      7\u001b[0m \u001b[0;34m\u001b[0m\u001b[0m\n",
            "\u001b[0;32m~/opt/anaconda3/lib/python3.7/site-packages/pandas/core/generic.py\u001b[0m in \u001b[0;36m__getattr__\u001b[0;34m(self, name)\u001b[0m\n\u001b[1;32m   5272\u001b[0m             \u001b[0;32mif\u001b[0m \u001b[0mself\u001b[0m\u001b[0;34m.\u001b[0m\u001b[0m_info_axis\u001b[0m\u001b[0;34m.\u001b[0m\u001b[0m_can_hold_identifiers_and_holds_name\u001b[0m\u001b[0;34m(\u001b[0m\u001b[0mname\u001b[0m\u001b[0;34m)\u001b[0m\u001b[0;34m:\u001b[0m\u001b[0;34m\u001b[0m\u001b[0;34m\u001b[0m\u001b[0m\n\u001b[1;32m   5273\u001b[0m                 \u001b[0;32mreturn\u001b[0m \u001b[0mself\u001b[0m\u001b[0;34m[\u001b[0m\u001b[0mname\u001b[0m\u001b[0;34m]\u001b[0m\u001b[0;34m\u001b[0m\u001b[0;34m\u001b[0m\u001b[0m\n\u001b[0;32m-> 5274\u001b[0;31m             \u001b[0;32mreturn\u001b[0m \u001b[0mobject\u001b[0m\u001b[0;34m.\u001b[0m\u001b[0m__getattribute__\u001b[0m\u001b[0;34m(\u001b[0m\u001b[0mself\u001b[0m\u001b[0;34m,\u001b[0m \u001b[0mname\u001b[0m\u001b[0;34m)\u001b[0m\u001b[0;34m\u001b[0m\u001b[0;34m\u001b[0m\u001b[0m\n\u001b[0m\u001b[1;32m   5275\u001b[0m \u001b[0;34m\u001b[0m\u001b[0m\n\u001b[1;32m   5276\u001b[0m     \u001b[0;32mdef\u001b[0m \u001b[0m__setattr__\u001b[0m\u001b[0;34m(\u001b[0m\u001b[0mself\u001b[0m\u001b[0;34m,\u001b[0m \u001b[0mname\u001b[0m\u001b[0;34m:\u001b[0m \u001b[0mstr\u001b[0m\u001b[0;34m,\u001b[0m \u001b[0mvalue\u001b[0m\u001b[0;34m)\u001b[0m \u001b[0;34m->\u001b[0m \u001b[0;32mNone\u001b[0m\u001b[0;34m:\u001b[0m\u001b[0;34m\u001b[0m\u001b[0;34m\u001b[0m\u001b[0m\n",
            "\u001b[0;31mAttributeError\u001b[0m: 'Series' object has no attribute 'contains'"
          ]
        }
      ],
      "source": [
        "chemical = ['tear']\n",
        "# chemical = '|'.join(chemical)\n",
        "\n",
        "for i in pigs['tags']:\n",
        "    if pigs.tags.contains(chemical):\n",
        "        pigs['force_cat'] = 'Chemical'\n",
        "\n",
        "pigs[pigs['tags'].isin(chemical)]"
      ]
    },
    {
      "cell_type": "code",
      "execution_count": 90,
      "metadata": {},
      "outputs": [
        {
          "output_type": "execute_result",
          "data": {
            "text/plain": [
              "0                  arrest less-lethal projectile protester shoot tear-gas\n",
              "1                                           arrest knee-on-neck protester\n",
              "2                                                    beat protester punch\n",
              "3                                      less-lethal pepper-spray protester\n",
              "4             child inhumane-treatment less-lethal pepper-spray protester\n",
              "                                      ...                                \n",
              "1173                                              arrest lgbtq+ protester\n",
              "1174                                 abuse-of-power arrest knee protester\n",
              "1175     child less-lethal pepper-spray protester push shield shove spray\n",
              "1176    arrest beat child less-lethal pepper-spray protester spray tackle\n",
              "1177                    less-lethal medic protester stun-grenade tear-gas\n",
              "Name: tags, Length: 1178, dtype: object"
            ]
          },
          "metadata": {},
          "execution_count": 90
        }
      ],
      "source": [
        "pigs['tags']"
      ]
    },
    {
      "cell_type": "code",
      "execution_count": null,
      "metadata": {},
      "outputs": [],
      "source": []
    }
  ]
}